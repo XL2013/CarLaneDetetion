{
 "cells": [
  {
   "cell_type": "code",
   "execution_count": 50,
   "metadata": {
    "collapsed": true
   },
   "outputs": [],
   "source": [
    "import torch\n",
    "import torchvision\n",
    "\n",
    "import matplotlib.pyplot as plt\n",
    "%matplotlib inline\n",
    "import random\n",
    "import json\n",
    "from PIL import Image\n",
    "import os\n",
    "os.environ[\"CUDA_VISIBLE_DEVICES\"] = \"0\""
   ]
  },
  {
   "cell_type": "code",
   "execution_count": 2,
   "metadata": {
    "collapsed": true
   },
   "outputs": [],
   "source": [
    "data_path = '../data/2.7万张道路线精细标注抽取2000张/'"
   ]
  },
  {
   "cell_type": "markdown",
   "metadata": {},
   "source": [
    "# Prepare data\n",
    "\n",
    "### 1. train val split\n",
    "### 2. get classes"
   ]
  },
  {
   "cell_type": "code",
   "execution_count": 58,
   "metadata": {},
   "outputs": [
    {
     "name": "stdout",
     "output_type": "stream",
     "text": [
      "total image:2000\n",
      "train val split: train:100, val:1900\n",
      "total class:21\n",
      "[('seven', 1), ('stop line', 2), ('turn right', 3), ('three', 4), ('turn left', 5), ('six', 6), ('solid line', 7), ('straight', 8), ('dotted line', 9), ('void', 10), ('four', 11), ('turn around', 12), ('straight and left', 13), ('route void', 14), ('straight and turn around', 15), ('sidewalk', 16), ('straight and right', 17), ('one', 18), ('eight', 19), ('nine', 20), ('zero', 21)]\n",
      "save to: ../data/2.7万张道路线精细标注抽取2000张/train_val.json\n"
     ]
    }
   ],
   "source": [
    "data = os.listdir(data_path)\n",
    "names = []\n",
    "for line in data:\n",
    "    name, t = line.split('.')\n",
    "    if t == 'jpg':\n",
    "        names.append(name)\n",
    "print('total image:{}'.format(len(names)))\n",
    "\n",
    "val = random.sample(names,100)\n",
    "train = list(set(names) - set(val))\n",
    "\n",
    "print('train val split: train:{}, val:{}'.format(len(val), len(train)))\n",
    "\n",
    "classes = set()\n",
    "for name in names:\n",
    "    json_path = data_path + name + '.json'\n",
    "    annotation = json.load(open(json_path))\n",
    "    annotation = annotation['datalist']\n",
    "    for mask in annotation:\n",
    "        classes.add(mask['type'])\n",
    "classes = [(c,idx) for idx,c in enumerate(classes,1)]\n",
    "\n",
    "print('total class:{}'.format(len(classes)))\n",
    "print(classes)\n",
    "\n",
    "data_json = {\n",
    "    'train':train,\n",
    "    'val':val,\n",
    "    'classes':classes\n",
    "}\n",
    "\n",
    "save_path = data_path+'train_val.json'\n",
    "json.dump(train_val_json, open(save_path,'w'))\n",
    "print('save to: '+ save_path)\n",
    "\n"
   ]
  },
  {
   "cell_type": "code",
   "execution_count": 41,
   "metadata": {
    "collapsed": true
   },
   "outputs": [],
   "source": [
    "from mrcnn import utils\n",
    "\n",
    "class CarlaneDataset(utils.Dataset):\n",
    "    \"\"\"\n",
    "    train_val.json:{\n",
    "        \"train\": xx,\n",
    "        \"val\":xx,\n",
    "        \"classes\":xx\n",
    "    }\n",
    "    train, val: [image_name,...]\n",
    "    classes: [(class_name, class_id),...]\n",
    "    \"\"\"\n",
    "    \n",
    "    def load_carlane(self, dataset_dir, subset):\n",
    "        assert subset in [\"train\", \"val\"]\n",
    "        data = json.load(open(os.path.join(dataset_dir,'train_val.json'),'r'))\n",
    "        \n",
    "        classes = data['classes']\n",
    "        for c in classes:\n",
    "            self.add_class(\"carlane\", c[1], c[0])\n",
    "            \n",
    "        self.class_map = {}\n",
    "        for c in classes:\n",
    "            self.class_map[c[0]] = c[1]\n",
    "            \n",
    "        image_names = data[subset]\n",
    "        \n",
    "        # Add images\n",
    "        for image_name in image_names:\n",
    "            json_path = os.path.join(dataset_dir, image_name + '.json')\n",
    "            annotation = json.load(open(json_path))\n",
    "            annotation = annotation['datalist']\n",
    "            polygons = [ a['arr'] for a in annotation]\n",
    "            polygons_type = [ a['type'] for a in annotation]\n",
    "            \n",
    "            "
   ]
  },
  {
   "cell_type": "code",
   "execution_count": null,
   "metadata": {
    "collapsed": true
   },
   "outputs": [],
   "source": []
  }
 ],
 "metadata": {
  "kernelspec": {
   "display_name": "Python 3",
   "language": "python",
   "name": "python3"
  },
  "language_info": {
   "codemirror_mode": {
    "name": "ipython",
    "version": 3
   },
   "file_extension": ".py",
   "mimetype": "text/x-python",
   "name": "python",
   "nbconvert_exporter": "python",
   "pygments_lexer": "ipython3",
   "version": "3.6.3"
  }
 },
 "nbformat": 4,
 "nbformat_minor": 2
}
